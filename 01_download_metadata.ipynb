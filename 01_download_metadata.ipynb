{
 "cells": [
  {
   "cell_type": "code",
   "execution_count": 1,
   "metadata": {},
   "outputs": [],
   "source": [
    "import json"
   ]
  },
  {
   "cell_type": "code",
   "execution_count": 2,
   "metadata": {},
   "outputs": [],
   "source": [
    "import requests\n",
    "from urllib.parse import urlencode\n",
    "import uuid\n",
    "import hashlib\n",
    "import base64\n",
    "from email.utils import formatdate\n",
    "\n",
    "class EDAN:\n",
    "    edan_base = 'http://edan.si.edu/metadata/v2.0/collections/search.htm' \n",
    "    \n",
    "    def __init__(self, app_id, app_key):\n",
    "        self.app_id = app_id\n",
    "        self.app_key = app_key\n",
    "        self.session = requests.Session()\n",
    "    def query(self, query_string, start=0, rows=10):\n",
    "        request_date = formatdate()\n",
    "        nonce = str(uuid.uuid4())\n",
    "        query_params = {'q': query_string,\n",
    "                        'rows': rows,\n",
    "                        'start': start}\n",
    "        query_param_string = urlencode(query_params)\n",
    "        string_to_sign = '\\n'.join([nonce, query_param_string, request_date, \n",
    "                                    self.app_key])\n",
    "\n",
    "        hashed_string = hashlib.sha1(string_to_sign.encode()).hexdigest()\n",
    "        encoded_string = base64.b64encode(hashed_string.encode())\n",
    "        request_headers = {'X-AppId': self.app_id,\n",
    "                           'X-Nonce': nonce,\n",
    "                           'X-RequestDate': request_date,\n",
    "                           'X-AuthContent': encoded_string}\n",
    "\n",
    "        r = self.session.get(self.edan_base, params = query_params, \n",
    "                             headers = request_headers)\n",
    "        response_json = r.json()\n",
    "        return response_json\n",
    "    \n",
    "    def fetch_all(self, query_string, step=100):\n",
    "        results = []\n",
    "        quick_result = self.query(query_string, rows=1)\n",
    "        if 'rowCount' in quick_result:\n",
    "            result_count = quick_result['rowCount']\n",
    "        if result_count > 0:\n",
    "            for start in range(0, result_count, step):\n",
    "                edan_json = self.query(query_string, start=start, rows=step)\n",
    "                edan_rows = edan_json['rows']\n",
    "                results += edan_rows\n",
    "        return results\n",
    "        "
   ]
  },
  {
   "cell_type": "code",
   "execution_count": 3,
   "metadata": {},
   "outputs": [
    {
     "name": "stdout",
     "output_type": "stream",
     "text": [
      "OCIO_DATA_SCIENCE\n"
     ]
    }
   ],
   "source": [
    "with open('edan_api_key.json') as api_json:\n",
    "    edan_key = json.load(api_json)\n",
    "print(edan_key['APP_ID'])"
   ]
  },
  {
   "cell_type": "code",
   "execution_count": 4,
   "metadata": {},
   "outputs": [],
   "source": [
    "edan = EDAN(edan_key['APP_ID'], edan_key['APP_KEY'])"
   ]
  },
  {
   "cell_type": "code",
   "execution_count": 5,
   "metadata": {},
   "outputs": [],
   "source": [
    "NEGATIVE_QUERY = '2007.1.69*'\n",
    "PRINT_QUERY = '2012.137*'"
   ]
  },
  {
   "cell_type": "code",
   "execution_count": 6,
   "metadata": {},
   "outputs": [
    {
     "data": {
      "text/plain": [
       "{'rows': [{'id': 'edanmdm-nmaahc_2007.1.69.1.11.A',\n",
       "   'title': 'Studio Portrait of a Couple Sitting, Ruth Ann Phinesee',\n",
       "   'unitCode': 'NMAAHC',\n",
       "   'linkedId': '0',\n",
       "   'type': 'edanmdm',\n",
       "   'url': 'edanmdm:nmaahc_2007.1.69.1.11.A',\n",
       "   'content': {'descriptiveNonRepeating': {'record_ID': 'nmaahc_2007.1.69.1.11.A',\n",
       "     'online_media': {'mediaCount': '1',\n",
       "      'media': [{'thumbnail': 'http://ids.si.edu/ids/deliveryService?id=NMAAHC-HCA_1_11_A',\n",
       "        'idsId': 'NMAAHC-HCA_1_11_A',\n",
       "        'type': 'Images',\n",
       "        'content': 'http://ids.si.edu/ids/deliveryService?id=NMAAHC-HCA_1_11_A'}]},\n",
       "     'unit_code': 'NMAAHC',\n",
       "     'title_sort': 'STUDIO PORTRAIT OF A COUPLE SITTING, RUTH ANN PHINESEE',\n",
       "     'title': {'label': 'Object Name',\n",
       "      'content': 'Studio Portrait of a Couple Sitting, Ruth Ann Phinesee'},\n",
       "     'data_source': 'National Museum of African American History and Culture'},\n",
       "    'indexedStructured': {'object_type': ['Portraits', 'Photographs'],\n",
       "     'geoLocation': [{'L1': {'type': 'Continent', 'content': ' Pacific Ocean'},\n",
       "       'L2': {'type': 'Country', 'content': 'United States of America'}}],\n",
       "     'culture': ['African Americans'],\n",
       "     'online_media_rights': ['Copyright Owned'],\n",
       "     'name': ['Anderson, Henry Clay'],\n",
       "     'topic': ['Photography', 'American South', 'Communities', 'Segregation'],\n",
       "     'place': ['Mississippi',\n",
       "      'United States',\n",
       "      'Greenville',\n",
       "      'Washington County'],\n",
       "     'online_media_type': ['Images']},\n",
       "    'freetext': {'setName': [{'label': 'See more items in',\n",
       "       'content': 'National Museum of African American History and Culture Collection'},\n",
       "      {'label': 'Classification', 'content': 'Media Arts-Photography'}],\n",
       "     'date': [{'label': 'Date', 'content': '1948 - 1970s'}],\n",
       "     'identifier': [{'label': 'Object number', 'content': '2007.1.69.1.11.A'}],\n",
       "     'notes': [{'label': 'Description',\n",
       "       'content': 'Studio Portrait of a Couple Sitting, Man Has his Arm Around her, Ruth Ann Phinesee'}],\n",
       "     'creditLine': [{'label': 'Credit Line',\n",
       "       'content': 'Collection of the Smithsonian National Museum of African American History and Culture'}],\n",
       "     'name': [{'label': 'Photograph by',\n",
       "       'content': 'Rev. Henry Clay Anderson, American, 1911 - 1998'}],\n",
       "     'topic': [{'label': 'Topic', 'content': 'African American'},\n",
       "      {'label': 'Topic', 'content': 'American South'},\n",
       "      {'label': 'Topic', 'content': 'Communities'},\n",
       "      {'label': 'Topic', 'content': 'Photography'},\n",
       "      {'label': 'Topic', 'content': 'Segregation'}],\n",
       "     'place': [{'label': 'Place made',\n",
       "       'content': 'Greenville, Washington County, Mississippi, United States'}],\n",
       "     'physicalDescription': [{'label': 'Medium',\n",
       "       'content': 'silver and photographic gelatin on acetate film'},\n",
       "      {'label': 'Dimensions', 'content': 'H x W: 5 x 4 in (12.7 x 10.2 cm)'}],\n",
       "     'dataSource': [{'label': 'Data Source',\n",
       "       'content': 'National Museum of African American History and Culture'}],\n",
       "     'objectRights': [{'label': 'Restrictions & Rights',\n",
       "       'content': '© Smithsonian National Museum of African American History and Culture'}],\n",
       "     'objectType': [{'label': 'Type', 'content': 'negatives'},\n",
       "      {'label': 'Type', 'content': 'portraits'}]}},\n",
       "   'hash': '7d37b9849d787899c99483a5c9b228451a360a26',\n",
       "   'docSignature': '0281dc7cd5e11b41784e19ef464beff757a64b44_e7ceb882e038e4aa7e17f7b2624d5ae8',\n",
       "   'timestamp': '1573290884',\n",
       "   'lastTimeUpdated': '1573290877',\n",
       "   'status': 0,\n",
       "   'version': '',\n",
       "   'publicSearch': True,\n",
       "   'linkedContent': {}}],\n",
       " 'facetQueries': {},\n",
       " 'facets': {'culture': [['African Americans', 4272]],\n",
       "  'date': [['1950s', 10], ['1960s', 7], ['1970s', 2], ['1940s', 1]],\n",
       "  'object_type': [['Photographs', 4272], ['Portraits', 4022]],\n",
       "  'online_media_type': [['Images', 4271]],\n",
       "  'online_visual_material': [['true', 4271]],\n",
       "  'place': [['United States', 4272],\n",
       "   ['Greenville', 4271],\n",
       "   ['Mississippi', 4271],\n",
       "   ['Washington County', 4271]],\n",
       "  'set_name': [['National Museum of African American History and Culture Collection',\n",
       "    4272],\n",
       "   ['Media Arts-Photography', 4271],\n",
       "   ['Tools and Equipment-Crafting-Artistic-Image-making', 1]],\n",
       "  'topic': [['American South', 4272],\n",
       "   ['Communities', 4272],\n",
       "   ['Segregation', 4272],\n",
       "   ['Photography', 4271],\n",
       "   ['Children', 1117],\n",
       "   ['Family', 398],\n",
       "   ['Religious groups', 228],\n",
       "   ['Fashion', 52],\n",
       "   ['Military', 49],\n",
       "   ['Education', 42],\n",
       "   ['Amusements', 23],\n",
       "   ['Beauty culture', 18],\n",
       "   ['Oratory', 17],\n",
       "   ['Singers (Musicians)', 17],\n",
       "   ['Baseball', 8],\n",
       "   ['Sports', 8],\n",
       "   ['Football', 7],\n",
       "   ['Athletes', 6],\n",
       "   ['Music', 6],\n",
       "   ['Gospel (Music)', 5]],\n",
       "  'type': [['edanmdm', 4272]],\n",
       "  'unit_code': [['NMAAHC', 4272]],\n",
       "  'p.edanmdm.indexedstructured.common_name': [],\n",
       "  'p.edanmdm.indexedstructured.exhibition_building': [],\n",
       "  'p.edanmdm.indexedstructured.name': [['Anderson, Henry Clay', 4272],\n",
       "   [\"The Rabbit's Foot Company\", 3],\n",
       "   ['Burns, Douglas', 1],\n",
       "   ['Edwards, Sharon Kaye', 1],\n",
       "   ['Neal, Alfred A.', 1],\n",
       "   ['Sayles, Charles Henry', 1],\n",
       "   ['Wilson, Myra', 1]],\n",
       "  'p.edanmdm.descriptivenonrepeating.data_source': [['National Museum of African American History and Culture',\n",
       "    4272]],\n",
       "  'p.edanmdm.indexedstructured.geo_age-era': [],\n",
       "  'p.edanmdm.indexedstructured.geo_age-series': [],\n",
       "  'p.edanmdm.indexedstructured.geo_age-stage': [],\n",
       "  'p.edanmdm.indexedstructured.geo_age-system': [],\n",
       "  'p.edanmdm.indexedstructured.language': [],\n",
       "  'p.edanmdm.indexedstructured.occupation': [],\n",
       "  'p.edanmdm.indexedstructured.onphysicalexhibit': [],\n",
       "  'p.edanmdm.indexedstructured.scientific_name': [],\n",
       "  'p.edanmdm.indexedstructured.strat_formation': [],\n",
       "  'p.edanmdm.indexedstructured.strat_group': [],\n",
       "  'p.edanmdm.indexedstructured.strat_member': [],\n",
       "  'p.edanmdm.indexedstructured.tax_class': [],\n",
       "  'p.edanmdm.indexedstructured.tax_division': [],\n",
       "  'p.edanmdm.indexedstructured.tax_family': [],\n",
       "  'p.edanmdm.indexedstructured.tax_kingdom': [],\n",
       "  'p.edanmdm.indexedstructured.tax_order': [],\n",
       "  'p.edanmdm.indexedstructured.tax_phylum': [],\n",
       "  'p.edanmdm.indexedstructured.tax_sub-family': []},\n",
       " 'start': 10,\n",
       " 'rowCount': 4272}"
      ]
     },
     "execution_count": 6,
     "metadata": {},
     "output_type": "execute_result"
    }
   ],
   "source": [
    "test_call = edan.query(NEGATIVE_QUERY, start=10, rows=1)\n",
    "test_call"
   ]
  },
  {
   "cell_type": "code",
   "execution_count": 7,
   "metadata": {},
   "outputs": [
    {
     "data": {
      "text/plain": [
       "4272"
      ]
     },
     "execution_count": 7,
     "metadata": {},
     "output_type": "execute_result"
    }
   ],
   "source": [
    "neg_results = edan.fetch_all(NEGATIVE_QUERY)\n",
    "len(neg_results)"
   ]
  },
  {
   "cell_type": "code",
   "execution_count": 8,
   "metadata": {},
   "outputs": [
    {
     "data": {
      "text/plain": [
       "579"
      ]
     },
     "execution_count": 8,
     "metadata": {},
     "output_type": "execute_result"
    }
   ],
   "source": [
    "print_results = edan.fetch_all(PRINT_QUERY)\n",
    "len(print_results)"
   ]
  },
  {
   "cell_type": "code",
   "execution_count": 9,
   "metadata": {},
   "outputs": [
    {
     "data": {
      "text/plain": [
       "4851"
      ]
     },
     "execution_count": 9,
     "metadata": {},
     "output_type": "execute_result"
    }
   ],
   "source": [
    "combined_metadata = neg_results + print_results\n",
    "combined_metadata = sorted(combined_metadata, key=lambda k: k['id']) \n",
    "len(combined_metadata)"
   ]
  },
  {
   "cell_type": "code",
   "execution_count": 10,
   "metadata": {},
   "outputs": [],
   "source": [
    "with open('data/metadata/edan_anderson_photos.json','w') as json_out:\n",
    "    json.dump(combined_metadata, json_out, indent=2)"
   ]
  },
  {
   "cell_type": "code",
   "execution_count": null,
   "metadata": {},
   "outputs": [],
   "source": []
  }
 ],
 "metadata": {
  "kernelspec": {
   "display_name": "Python 3",
   "language": "python",
   "name": "python3"
  },
  "language_info": {
   "codemirror_mode": {
    "name": "ipython",
    "version": 3
   },
   "file_extension": ".py",
   "mimetype": "text/x-python",
   "name": "python",
   "nbconvert_exporter": "python",
   "pygments_lexer": "ipython3",
   "version": "3.7.5"
  }
 },
 "nbformat": 4,
 "nbformat_minor": 2
}
