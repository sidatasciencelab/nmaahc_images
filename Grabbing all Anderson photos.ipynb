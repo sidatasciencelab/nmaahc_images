{
 "cells": [
  {
   "cell_type": "code",
   "execution_count": 49,
   "metadata": {},
   "outputs": [],
   "source": [
    "import requests\n",
    "import os\n",
    "from urllib.parse import urlencode\n",
    "import uuid\n",
    "import hashlib\n",
    "import base64\n",
    "from email.utils import formatdate\n",
    "import json\n",
    "from pathlib import Path\n",
    "from PIL import Image\n",
    "import pandas as pd"
   ]
  },
  {
   "cell_type": "code",
   "execution_count": 2,
   "metadata": {},
   "outputs": [],
   "source": [
    "s = requests.Session()"
   ]
  },
  {
   "cell_type": "code",
   "execution_count": 3,
   "metadata": {},
   "outputs": [],
   "source": [
    "APP_ID = os.environ['APP_ID']\n",
    "APP_KEY = os.environ['APP_KEY']"
   ]
  },
  {
   "cell_type": "code",
   "execution_count": 4,
   "metadata": {},
   "outputs": [],
   "source": [
    "def edan_request(session, query, app_id, app_key, start=0, rows=10):\n",
    "    URL_BASE = 'http://edan.si.edu/metadata/v2.0/collections/search.htm'\n",
    "    request_date = formatdate()\n",
    "    nonce = str(uuid.uuid4())\n",
    "    query_params = {'q': query,\n",
    "                    'rows': rows,\n",
    "                    'start': start}\n",
    "    query_param_string = urlencode(query_params)\n",
    "    string_to_sign = '\\n'.join([nonce, query_param_string, request_date, app_key])\n",
    "    \n",
    "    hashed_string = hashlib.sha1(string_to_sign.encode()).hexdigest()\n",
    "    encoded_string = base64.b64encode(hashed_string.encode())\n",
    "    request_headers = {'X-AppId': app_id,\n",
    "                       'X-Nonce': nonce,\n",
    "                       'X-RequestDate': request_date,\n",
    "                       'X-AuthContent': encoded_string}\n",
    "    \n",
    "    r = session.get(URL_BASE, params = query_params, headers = request_headers)\n",
    "    response_json = r.json()\n",
    "    return response_json"
   ]
  },
  {
   "cell_type": "code",
   "execution_count": 5,
   "metadata": {},
   "outputs": [
    {
     "data": {
      "text/plain": [
       "{'rows': [{'id': 'edanmdm-nmaahc_2007.1.69.20.32.B',\n",
       "   'title': 'Studio Portrait of a Child Sitting on a Sofa',\n",
       "   'unitCode': 'NMAAHC',\n",
       "   'linkedId': '0',\n",
       "   'type': 'edanmdm',\n",
       "   'url': 'edanmdm:nmaahc_2007.1.69.20.32.B',\n",
       "   'content': {'descriptiveNonRepeating': {'title_sort': 'STUDIO PORTRAIT OF A CHILD SITTING ON A SOFA',\n",
       "     'title': {'content': 'Studio Portrait of a Child Sitting on a Sofa',\n",
       "      'label': 'Object Name'},\n",
       "     'online_media': {'mediaCount': '1',\n",
       "      'media': [{'content': 'http://ids.si.edu/ids/deliveryService?id=NMAAHC-HCA_20.32.B',\n",
       "        'idsId': 'NMAAHC-HCA_20.32.B',\n",
       "        'thumbnail': 'http://ids.si.edu/ids/deliveryService?id=NMAAHC-HCA_20.32.B',\n",
       "        'type': 'Images'}]},\n",
       "     'record_ID': 'nmaahc_2007.1.69.20.32.B',\n",
       "     'data_source': 'National Museum of African American History and Culture',\n",
       "     'unit_code': 'NMAAHC'},\n",
       "    'indexedStructured': {'topic': ['American South',\n",
       "      'Communities',\n",
       "      'Segregation',\n",
       "      'Children',\n",
       "      'Photography'],\n",
       "     'object_type': ['Photographs', 'Portraits'],\n",
       "     'name': ['Anderson, Henry Clay'],\n",
       "     'geoLocation': [{'L1': {'content': ' Oceania', 'type': 'Continent'},\n",
       "       'L2': {'content': 'United States', 'type': 'Country'}}],\n",
       "     'online_media_type': ['Images'],\n",
       "     'online_media_rights': ['Copyright Owned'],\n",
       "     'place': ['United States',\n",
       "      'Mississippi',\n",
       "      'Greenville',\n",
       "      'Washington County'],\n",
       "     'culture': ['African Americans']},\n",
       "    'freetext': {'topic': [{'content': 'African American', 'label': 'Topic'},\n",
       "      {'content': 'American South', 'label': 'Topic'},\n",
       "      {'content': 'Children', 'label': 'Topic'},\n",
       "      {'content': 'Communities', 'label': 'Topic'},\n",
       "      {'content': 'Photography', 'label': 'Topic'},\n",
       "      {'content': 'Segregation', 'label': 'Topic'}],\n",
       "     'dataSource': [{'content': 'National Museum of African American History and Culture',\n",
       "       'label': 'Data Source'}],\n",
       "     'objectRights': [{'content': '© Smithsonian National Museum of African American History and Culture',\n",
       "       'label': 'Restrictions & Rights'}],\n",
       "     'name': [{'content': 'Rev. Henry Clay Anderson, American, 1911 - 1998',\n",
       "       'label': 'Created by'}],\n",
       "     'creditLine': [{'content': 'Collection of the Smithsonian National Museum of African American History and Culture',\n",
       "       'label': 'Credit Line'}],\n",
       "     'physicalDescription': [{'content': 'silver and photographic gelatin on acetate film',\n",
       "       'label': 'Medium'},\n",
       "      {'content': 'H x W: 5 x 4 in (12.7 x 10.2 cm)', 'label': 'Dimensions'}],\n",
       "     'setName': [{'content': 'National Museum of African American History and Culture Collection',\n",
       "       'label': 'See more items in'},\n",
       "      {'content': 'Media Arts-Photography', 'label': 'Classification'}],\n",
       "     'place': [{'content': 'Greenville, Washington County, Mississippi, United States',\n",
       "       'label': 'Place made'}],\n",
       "     'date': [{'content': '1948 - 1970s', 'label': 'Date'}],\n",
       "     'notes': [{'content': 'Studio Portrait of a Child Sitting on a Sofa',\n",
       "       'label': 'Description'}],\n",
       "     'objectType': [{'content': 'negatives', 'label': 'Type'},\n",
       "      {'content': 'portraits', 'label': 'Type'}],\n",
       "     'identifier': [{'content': '2007.1.69.20.32.B',\n",
       "       'label': 'Object number'}]}},\n",
       "   'hash': '830cc37b74d42c54ead04bea58a0185ddb91e25c',\n",
       "   'docSignature': '830cc37b74d42c54ead04bea58a0185ddb91e25c_8f5834ab522bc936c97b8d60c5abcb78',\n",
       "   'timestamp': 'Thu Mar 08 04:17:49 EST 2018',\n",
       "   'lastTimeUpdated': 'Thu Mar 08 04:17:49 EST 2018',\n",
       "   'status': 0,\n",
       "   'version': 'edanmdm-nmaahc_2007.1.69.20.32.B',\n",
       "   'publicSearch': True,\n",
       "   'linkedContent': {}}],\n",
       " 'facetQueries': {},\n",
       " 'facets': {'culture': [['African Americans', 4271]],\n",
       "  'date': [['1950s', 10], ['1960s', 7], ['1970s', 2], ['1940s', 1]],\n",
       "  'object_type': [['Photographs', 4271], ['Portraits', 4022]],\n",
       "  'online_media_type': [['Images', 4271]],\n",
       "  'online_visual_material': [['true', 4271]],\n",
       "  'place': [['United States', 4271],\n",
       "   ['Greenville', 4270],\n",
       "   ['Mississippi', 4270],\n",
       "   ['Washington County', 4270]],\n",
       "  'set_name': [['National Museum of African American History and Culture Collection',\n",
       "    4271],\n",
       "   ['Media Arts-Photography', 4270],\n",
       "   ['Tools and Equipment-Crafting-Artistic-Image-making', 1]],\n",
       "  'topic': [['American South', 4271],\n",
       "   ['Communities', 4271],\n",
       "   ['Segregation', 4271],\n",
       "   ['Photography', 4270],\n",
       "   ['Children', 1118],\n",
       "   ['Family', 398],\n",
       "   ['Religious groups', 228],\n",
       "   ['Fashion', 52],\n",
       "   ['Military', 49],\n",
       "   ['Education', 42],\n",
       "   ['Amusements', 23],\n",
       "   ['Beauty culture', 18],\n",
       "   ['Singers (Musicians)', 17],\n",
       "   ['Baseball', 8],\n",
       "   ['Football', 7],\n",
       "   ['Athletes', 6],\n",
       "   ['Music', 6],\n",
       "   ['Gospel (Music)', 5],\n",
       "   ['Civil Rights', 4],\n",
       "   ['Instrumentalists (Musicians)', 4]],\n",
       "  'type': [['edanmdm', 4271]],\n",
       "  'unit_code': [['NMAAHC', 4271]],\n",
       "  'p.edanmdm.indexedstructured.common_name': [],\n",
       "  'p.edanmdm.indexedstructured.exhibition_building': [],\n",
       "  'p.edanmdm.indexedstructured.name': [['Anderson, Henry Clay', 4271],\n",
       "   [\"The Rabbit's Foot Company\", 3],\n",
       "   ['Burns, Douglas', 1],\n",
       "   ['Edwards, Sharon Kaye', 1],\n",
       "   ['Neal, Alfred A.', 1],\n",
       "   ['Sayles, Charles Henry', 1],\n",
       "   ['Wilson, Myra', 1]],\n",
       "  'p.edanmdm.descriptivenonrepeating.data_source': [['National Museum of African American History and Culture',\n",
       "    4271]],\n",
       "  'p.edanmdm.indexedstructured.geo_age-era': [],\n",
       "  'p.edanmdm.indexedstructured.geo_age-series': [],\n",
       "  'p.edanmdm.indexedstructured.geo_age-stage': [],\n",
       "  'p.edanmdm.indexedstructured.geo_age-system': [],\n",
       "  'p.edanmdm.indexedstructured.language': [],\n",
       "  'p.edanmdm.indexedstructured.occupation': [],\n",
       "  'p.edanmdm.indexedstructured.onphysicalexhibit': [],\n",
       "  'p.edanmdm.indexedstructured.scientific_name': [],\n",
       "  'p.edanmdm.indexedstructured.strat_formation': [],\n",
       "  'p.edanmdm.indexedstructured.strat_group': [],\n",
       "  'p.edanmdm.indexedstructured.strat_member': [],\n",
       "  'p.edanmdm.indexedstructured.tax_class': [],\n",
       "  'p.edanmdm.indexedstructured.tax_division': [],\n",
       "  'p.edanmdm.indexedstructured.tax_family': [],\n",
       "  'p.edanmdm.indexedstructured.tax_kingdom': [],\n",
       "  'p.edanmdm.indexedstructured.tax_order': [],\n",
       "  'p.edanmdm.indexedstructured.tax_phylum': [],\n",
       "  'p.edanmdm.indexedstructured.tax_sub-family': []},\n",
       " 'start': 0,\n",
       " 'rowCount': 4271}"
      ]
     },
     "execution_count": 5,
     "metadata": {},
     "output_type": "execute_result"
    }
   ],
   "source": [
    "test_call = edan_request(s, '2007.1.69*', APP_ID, APP_KEY, rows=1)\n",
    "test_call"
   ]
  },
  {
   "cell_type": "code",
   "execution_count": 6,
   "metadata": {},
   "outputs": [
    {
     "data": {
      "text/plain": [
       "dict_keys(['rows', 'facetQueries', 'facets', 'start', 'rowCount'])"
      ]
     },
     "execution_count": 6,
     "metadata": {},
     "output_type": "execute_result"
    }
   ],
   "source": [
    "test_call.keys()"
   ]
  },
  {
   "cell_type": "code",
   "execution_count": 7,
   "metadata": {},
   "outputs": [
    {
     "name": "stdout",
     "output_type": "stream",
     "text": [
      "1\n"
     ]
    }
   ],
   "source": [
    "print(len(test_call['rows']))"
   ]
  },
  {
   "cell_type": "code",
   "execution_count": 8,
   "metadata": {},
   "outputs": [
    {
     "name": "stdout",
     "output_type": "stream",
     "text": [
      "4271\n"
     ]
    }
   ],
   "source": [
    "print(test_call['rowCount'])"
   ]
  },
  {
   "cell_type": "code",
   "execution_count": 9,
   "metadata": {},
   "outputs": [],
   "source": [
    "from tqdm import tqdm_notebook"
   ]
  },
  {
   "cell_type": "code",
   "execution_count": 10,
   "metadata": {},
   "outputs": [
    {
     "data": {
      "application/vnd.jupyter.widget-view+json": {
       "model_id": "1da665c32fc049f9a834d756bc77a0a5",
       "version_major": 2,
       "version_minor": 0
      },
      "text/plain": [
       "HBox(children=(IntProgress(value=0, max=43), HTML(value='')))"
      ]
     },
     "metadata": {},
     "output_type": "display_data"
    },
    {
     "name": "stdout",
     "output_type": "stream",
     "text": [
      "\n",
      "4271\n"
     ]
    }
   ],
   "source": [
    "STEP = 100\n",
    "\n",
    "all_rows = []\n",
    "\n",
    "for start in tqdm_notebook(range(0,4271,STEP)):\n",
    "    edan_json = edan_request(s, '2007.1.69*', APP_ID, APP_KEY, start, STEP)\n",
    "    edan_rows = edan_json['rows']\n",
    "    all_rows += edan_rows\n",
    "print(len(all_rows))"
   ]
  },
  {
   "cell_type": "code",
   "execution_count": 11,
   "metadata": {},
   "outputs": [],
   "source": [
    "with open('data/metadata/edan_anderson_photos.json','w') as json_out:\n",
    "    json.dump(all_rows, json_out, indent=2)"
   ]
  },
  {
   "cell_type": "code",
   "execution_count": 23,
   "metadata": {},
   "outputs": [
    {
     "data": {
      "text/plain": [
       "{'title_sort': 'STUDIO PORTRAIT OF A CHILD SITTING ON A SOFA',\n",
       " 'title': {'content': 'Studio Portrait of a Child Sitting on a Sofa',\n",
       "  'label': 'Object Name'},\n",
       " 'online_media': {'mediaCount': '1',\n",
       "  'media': [{'content': 'http://ids.si.edu/ids/deliveryService?id=NMAAHC-HCA_20.32.B',\n",
       "    'idsId': 'NMAAHC-HCA_20.32.B',\n",
       "    'thumbnail': 'http://ids.si.edu/ids/deliveryService?id=NMAAHC-HCA_20.32.B',\n",
       "    'type': 'Images'}]},\n",
       " 'record_ID': 'nmaahc_2007.1.69.20.32.B',\n",
       " 'data_source': 'National Museum of African American History and Culture',\n",
       " 'unit_code': 'NMAAHC'}"
      ]
     },
     "execution_count": 23,
     "metadata": {},
     "output_type": "execute_result"
    }
   ],
   "source": [
    "all_rows[0]['content']['descriptiveNonRepeating']"
   ]
  },
  {
   "cell_type": "code",
   "execution_count": 21,
   "metadata": {},
   "outputs": [
    {
     "data": {
      "text/plain": [
       "'http://ids.si.edu/ids/deliveryService?id=NMAAHC-HCA_20.32.B'"
      ]
     },
     "execution_count": 21,
     "metadata": {},
     "output_type": "execute_result"
    }
   ],
   "source": [
    "all_rows[0]['content']['descriptiveNonRepeating']['online_media']['media'][0]['content']"
   ]
  },
  {
   "cell_type": "code",
   "execution_count": 22,
   "metadata": {},
   "outputs": [
    {
     "data": {
      "text/plain": [
       "4271"
      ]
     },
     "execution_count": 22,
     "metadata": {},
     "output_type": "execute_result"
    }
   ],
   "source": [
    "image_urls = []\n",
    "for row in all_rows:\n",
    "    image_url = row['content']['descriptiveNonRepeating']['online_media']['media'][0]['content']\n",
    "    image_urls.append(image_url)\n",
    "len(image_urls)"
   ]
  },
  {
   "cell_type": "code",
   "execution_count": 46,
   "metadata": {},
   "outputs": [],
   "source": [
    "def download_image(url):\n",
    "    return_dict = {}\n",
    "    directory = Path('data/images')\n",
    "    filebase = url.split('=')[1] + '.jpg'\n",
    "    return_dict['id'] = url.split('=')[1]\n",
    "    filename = Path(directory / filebase)\n",
    "    r = requests.get(url)\n",
    "    if r.headers['Content-Type'] == 'image/jpeg':\n",
    "        with open(filename, 'wb') as image_path:\n",
    "            image_path.write(r.content)\n",
    "        with Image.open(filename) as im:\n",
    "            return_dict['width'], return_dict['height'] = im.size\n",
    "    return return_dict"
   ]
  },
  {
   "cell_type": "code",
   "execution_count": 47,
   "metadata": {},
   "outputs": [
    {
     "data": {
      "text/plain": [
       "{'id': 'NMAAHC-HCA_20.32.B', 'width': 1417, 'height': 1812}"
      ]
     },
     "execution_count": 47,
     "metadata": {},
     "output_type": "execute_result"
    }
   ],
   "source": [
    "test_result = download_image(image_urls[0])\n",
    "test_result"
   ]
  },
  {
   "cell_type": "code",
   "execution_count": 48,
   "metadata": {},
   "outputs": [
    {
     "data": {
      "application/vnd.jupyter.widget-view+json": {
       "model_id": "9a18548bca9d4d9ea92f034ca97dff65",
       "version_major": 2,
       "version_minor": 0
      },
      "text/plain": [
       "HBox(children=(IntProgress(value=0), HTML(value='')))"
      ]
     },
     "metadata": {},
     "output_type": "display_data"
    }
   ],
   "source": [
    "image_results = []\n",
    "for url in tqdm_notebook(image_urls[:100]):\n",
    "    image_result = download_image(url)\n",
    "    image_results.append(image_result)"
   ]
  },
  {
   "cell_type": "code",
   "execution_count": 50,
   "metadata": {},
   "outputs": [
    {
     "data": {
      "text/html": [
       "<div>\n",
       "<style scoped>\n",
       "    .dataframe tbody tr th:only-of-type {\n",
       "        vertical-align: middle;\n",
       "    }\n",
       "\n",
       "    .dataframe tbody tr th {\n",
       "        vertical-align: top;\n",
       "    }\n",
       "\n",
       "    .dataframe thead th {\n",
       "        text-align: right;\n",
       "    }\n",
       "</style>\n",
       "<table border=\"1\" class=\"dataframe\">\n",
       "  <thead>\n",
       "    <tr style=\"text-align: right;\">\n",
       "      <th></th>\n",
       "      <th>height</th>\n",
       "      <th>id</th>\n",
       "      <th>width</th>\n",
       "    </tr>\n",
       "  </thead>\n",
       "  <tbody>\n",
       "    <tr>\n",
       "      <th>0</th>\n",
       "      <td>1812</td>\n",
       "      <td>NMAAHC-HCA_20.32.B</td>\n",
       "      <td>1417</td>\n",
       "    </tr>\n",
       "    <tr>\n",
       "      <th>1</th>\n",
       "      <td>1782</td>\n",
       "      <td>NMAAHC-HCA_4.36.B-000001</td>\n",
       "      <td>1398</td>\n",
       "    </tr>\n",
       "    <tr>\n",
       "      <th>2</th>\n",
       "      <td>1794</td>\n",
       "      <td>NMAAHC-HCA_10.34.D</td>\n",
       "      <td>1447</td>\n",
       "    </tr>\n",
       "    <tr>\n",
       "      <th>3</th>\n",
       "      <td>1416</td>\n",
       "      <td>NMAAHC-HCA_15.38.A</td>\n",
       "      <td>1752</td>\n",
       "    </tr>\n",
       "    <tr>\n",
       "      <th>4</th>\n",
       "      <td>1404</td>\n",
       "      <td>NMAAHC-HCA_7.2.D</td>\n",
       "      <td>1776</td>\n",
       "    </tr>\n",
       "  </tbody>\n",
       "</table>\n",
       "</div>"
      ],
      "text/plain": [
       "   height                        id  width\n",
       "0    1812        NMAAHC-HCA_20.32.B   1417\n",
       "1    1782  NMAAHC-HCA_4.36.B-000001   1398\n",
       "2    1794        NMAAHC-HCA_10.34.D   1447\n",
       "3    1416        NMAAHC-HCA_15.38.A   1752\n",
       "4    1404          NMAAHC-HCA_7.2.D   1776"
      ]
     },
     "execution_count": 50,
     "metadata": {},
     "output_type": "execute_result"
    }
   ],
   "source": [
    "image_df = pd.DataFrame(image_results)\n",
    "image_df.head()"
   ]
  },
  {
   "cell_type": "code",
   "execution_count": 51,
   "metadata": {},
   "outputs": [],
   "source": [
    "image_df = image_df[['id','height','width']]\n",
    "image_df.to_csv('data/images/image_results.tsv', sep='\\t', index=False)"
   ]
  },
  {
   "cell_type": "code",
   "execution_count": null,
   "metadata": {},
   "outputs": [],
   "source": []
  }
 ],
 "metadata": {
  "kernelspec": {
   "display_name": "Python 3",
   "language": "python",
   "name": "python3"
  },
  "language_info": {
   "codemirror_mode": {
    "name": "ipython",
    "version": 3
   },
   "file_extension": ".py",
   "mimetype": "text/x-python",
   "name": "python",
   "nbconvert_exporter": "python",
   "pygments_lexer": "ipython3",
   "version": "3.7.3"
  }
 },
 "nbformat": 4,
 "nbformat_minor": 2
}
